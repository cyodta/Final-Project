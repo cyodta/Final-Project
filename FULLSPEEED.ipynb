{
  "nbformat": 4,
  "nbformat_minor": 0,
  "metadata": {
    "colab": {
      "provenance": [],
      "authorship_tag": "ABX9TyNMTzG4S9GxEdVwj9lsa5hy",
      "include_colab_link": true
    },
    "kernelspec": {
      "name": "python3",
      "display_name": "Python 3"
    },
    "language_info": {
      "name": "python"
    }
  },
  "cells": [
    {
      "cell_type": "markdown",
      "metadata": {
        "id": "view-in-github",
        "colab_type": "text"
      },
      "source": [
        "<a href=\"https://colab.research.google.com/github/cyodta/Final-Project/blob/main/FULLSPEEED.ipynb\" target=\"_parent\"><img src=\"https://colab.research.google.com/assets/colab-badge.svg\" alt=\"Open In Colab\"/></a>"
      ]
    },
    {
      "cell_type": "markdown",
      "source": [
        "Final Report\n",
        "\n",
        "\n",
        "My original plan was to create a car racing game, with just two cars like a drag race. I wanted the user of the game to be able to choose from one of the two vehicles to use and also change the color of it.\n",
        "\n",
        "I began to wonder of ways to enhance the video game, without adding too much stress on myself. Starting with the little things, I wanted there to be more cars racing each other around an actual track. To keep it interesting, I added speed boost power ups to the race course.\n",
        "\n",
        "A couple challenges that I ran into was trying to find articulate my mind into code. I have never done anything like this before, so for awhile I struggled figuring out where to start.\n"
      ],
      "metadata": {
        "id": "SYb3u_GVtFuM"
      }
    },
    {
      "cell_type": "code",
      "execution_count": 1,
      "metadata": {
        "id": "ao2bOblewqPa",
        "colab": {
          "base_uri": "https://localhost:8080/"
        },
        "outputId": "e86b0765-98e2-45e4-dfa2-816f5d3a1b8e"
      },
      "outputs": [
        {
          "output_type": "stream",
          "name": "stdout",
          "text": [
            "Requirement already satisfied: pygame in /usr/local/lib/python3.10/dist-packages (2.6.1)\n",
            "pygame 2.6.1 (SDL 2.28.4, Python 3.10.12)\n",
            "Hello from the pygame community. https://www.pygame.org/contribute.html\n"
          ]
        }
      ],
      "source": [
        "!pip install pygame\n",
        "\n",
        "import pygame\n",
        "import random\n",
        "\n",
        "pygame.init()\n",
        "\n",
        "screen_width = 800\n",
        "screen_height = 600\n",
        "screen = pygame.display.set_mode((screen_width, screen_height))\n",
        "pygame.display.set_caption(\"FULLSPEEED\")\n",
        "\n",
        "class color:\n",
        "\n",
        "    black = (0, 0, 0)\n",
        "    white = (255, 255, 255)\n",
        "    red = (255, 0, 0)\n",
        "    blue = (0, 0, 255)\n",
        "    green = (0, 255, 0)\n",
        "\n",
        "class Car:\n",
        "    def __init__(self, x, y, color, lane):\n",
        "        self.x = x\n",
        "        self.y = y\n",
        "        self.color = color\n",
        "        self.speed = 5\n",
        "        self.lane = lane\n",
        "        self.lane_width = screen_height // 3\n",
        "\n",
        "    def draw(self):\n",
        "        pygame.draw.rect(screen, self.color, (self.x, self.y, 20, 40))\n",
        "\n",
        "    def move(self):\n",
        "        self.x += self.speed\n",
        "\n",
        "        if self.y < self.lane_width * (self.lane - 1):\n",
        "            self.y = self.lane_width * (self.lane - 1)\n",
        "        elif self.y > self.lane_width * self.lane:\n",
        "            self.y = self.lane_width * self.lane\n",
        "\n",
        "    def check_collision(self, obstacles):\n",
        "        for obstacle in obstacles:\n",
        "            if self.x + 20 > obstacle.x and self.x < obstacle.x + 20 and self.y + 40 > obstacle.y and self.y < obstacle.y + 20:\n",
        "                return True\n",
        "        return False\n",
        "\n",
        "    def check_powerup(self, powerups):\n",
        "        for powerup in powerups:\n",
        "            if self.x + 20 > powerup.x and self.x < powerup.x + 20 and self.y + 40 > powerup.y and self.y < powerup.y + 20:\n",
        "                return powerup\n",
        "        return None\n",
        "\n",
        "class Obstacle:\n",
        "    def __init__(self, x, y):\n",
        "        self.x = x\n",
        "        self.y = y\n",
        "\n",
        "    def draw(self):\n",
        "        pygame.draw.rect(screen, color.black, (self.x, self.y, 20, 20))\n",
        "\n",
        "class PowerUp:\n",
        "    def __init__(self, x, y):\n",
        "        self.x = x\n",
        "        self.y = y\n",
        "\n",
        "    def draw(self):\n",
        "        pygame.draw.circle(screen, color.white, (self.x, self.y), 10)\n",
        "\n",
        "def game_loop():\n",
        "    running = True\n",
        "\n",
        "    cars = [Car(50, 200, color.red, 1), Car(50, 300, color.blue, 2), Car(50, 400, color.green, 3)]\n",
        "    obstacles = []\n",
        "    powerups = []\n",
        "    score = 0\n",
        "\n",
        "    while running:\n",
        "        for event in pygame.event.get():\n",
        "            if event.type == pygame.QUIT:\n",
        "                running = False\n",
        "\n",
        "        for car in cars:\n",
        "            car.move()\n",
        "\n",
        "            if car.check_collision(obstacles):\n",
        "                car.speed = 0\n",
        "\n",
        "            powerup = car.check_powerup(powerups)\n",
        "            if powerup:\n",
        "                car.speed += 2\n",
        "                powerups.remove(powerup)\n",
        "\n",
        "        if random.randint(1, 100) == 1:\n",
        "            obstacles.append(Obstacle(screen_width, random.randint(50, 550)))\n",
        "        if random.randint(1, 100) == 1:\n",
        "            powerups.append(PowerUp(screen_width, random.randint(50, 550)))\n",
        "\n",
        "        screen.fill(color.black)\n",
        "        for car in cars:\n",
        "            car.draw()\n",
        "        for obstacle in obstacles:\n",
        "            obstacle.draw()\n",
        "        for powerup in powerups:\n",
        "            powerup.draw()\n",
        "\n",
        "        font = pygame.font.Font(None, 36)\n",
        "        text = font.render(\"Score: \" + str(score), True, color.white)\n",
        "        screen.blit(text, (10, 10))\n",
        "\n",
        "        score += 1\n",
        "\n",
        "pygame.display.update()\n",
        "\n",
        "\n",
        "pygame.quit()\n",
        "\n",
        "\n"
      ]
    }
  ]
}