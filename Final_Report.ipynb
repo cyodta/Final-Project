{
  "nbformat": 4,
  "nbformat_minor": 0,
  "metadata": {
    "colab": {
      "provenance": [],
      "authorship_tag": "ABX9TyMLnGx4KiSBCbqOdMeZCieo",
      "include_colab_link": true
    },
    "kernelspec": {
      "name": "python3",
      "display_name": "Python 3"
    },
    "language_info": {
      "name": "python"
    }
  },
  "cells": [
    {
      "cell_type": "markdown",
      "metadata": {
        "id": "view-in-github",
        "colab_type": "text"
      },
      "source": [
        "<a href=\"https://colab.research.google.com/github/cyodta/Final-Project/blob/main/Final_Report.ipynb\" target=\"_parent\"><img src=\"https://colab.research.google.com/assets/colab-badge.svg\" alt=\"Open In Colab\"/></a>"
      ]
    },
    {
      "cell_type": "markdown",
      "source": [
        "\n",
        "\n",
        "My original plan was to create a simple car racing game, with just two cars like a drag race. I wanted the user of the game to be able to choose from one of the two vehicles to use and also change the color of it.\n",
        "\n",
        "I began to wonder of ways to enhance the video game, without adding too much stress on myself. Starting with the little things, I wanted there to be more cars racing each other around an actual track. To keep it interesting, I added speed boost power ups to the race course.\n",
        "\n",
        "A couple challenges that I ran into was trying to find articulate my mind into code. I have never done anything like this before, so for awhile I struggled figuring out where to start. I'm thankful for Python dictionaries and Google Colab, these resources helped me fix a lot of my errors.\n"
      ],
      "metadata": {
        "id": "EgOV05YFwo4i"
      }
    }
  ]
}